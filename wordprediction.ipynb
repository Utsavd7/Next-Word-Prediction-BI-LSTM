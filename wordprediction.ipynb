{
 "cells": [
  {
   "attachments": {},
   "cell_type": "markdown",
   "metadata": {},
   "source": [
    "Import necessary libraries and packages"
   ]
  },
  {
   "cell_type": "code",
   "execution_count": 2,
   "metadata": {},
   "outputs": [],
   "source": [
    "import pandas as pd\n",
    "import os\n",
    "import numpy as np\n",
    "\n",
    "import tensorflow as tf\n",
    "from tensorflow.keras.preprocessing.sequence import pad_sequences\n",
    "from tensorflow.keras.layers import Embedding, LSTM, Dense, Bidirectional\n",
    "from tensorflow.keras.preprocessing.text import Tokenizer\n",
    "from tensorflow.keras.models import Sequential\n",
    "from tensorflow.keras.optimizers import Adam"
   ]
  },
  {
   "attachments": {},
   "cell_type": "markdown",
   "metadata": {},
   "source": [
    "Dataset information"
   ]
  },
  {
   "cell_type": "code",
   "execution_count": 4,
   "metadata": {},
   "outputs": [
    {
     "data": {
      "text/html": [
       "<div>\n",
       "<style scoped>\n",
       "    .dataframe tbody tr th:only-of-type {\n",
       "        vertical-align: middle;\n",
       "    }\n",
       "\n",
       "    .dataframe tbody tr th {\n",
       "        vertical-align: top;\n",
       "    }\n",
       "\n",
       "    .dataframe thead th {\n",
       "        text-align: right;\n",
       "    }\n",
       "</style>\n",
       "<table border=\"1\" class=\"dataframe\">\n",
       "  <thead>\n",
       "    <tr style=\"text-align: right;\">\n",
       "      <th></th>\n",
       "      <th>id</th>\n",
       "      <th>url</th>\n",
       "      <th>title</th>\n",
       "      <th>subtitle</th>\n",
       "      <th>image</th>\n",
       "      <th>claps</th>\n",
       "      <th>responses</th>\n",
       "      <th>reading_time</th>\n",
       "      <th>publication</th>\n",
       "      <th>date</th>\n",
       "    </tr>\n",
       "  </thead>\n",
       "  <tbody>\n",
       "    <tr>\n",
       "      <th>0</th>\n",
       "      <td>1</td>\n",
       "      <td>https://towardsdatascience.com/a-beginners-gui...</td>\n",
       "      <td>A Beginner’s Guide to Word Embedding with Gens...</td>\n",
       "      <td>NaN</td>\n",
       "      <td>1.png</td>\n",
       "      <td>850</td>\n",
       "      <td>8</td>\n",
       "      <td>8</td>\n",
       "      <td>Towards Data Science</td>\n",
       "      <td>2019-05-30</td>\n",
       "    </tr>\n",
       "    <tr>\n",
       "      <th>1</th>\n",
       "      <td>2</td>\n",
       "      <td>https://towardsdatascience.com/hands-on-graph-...</td>\n",
       "      <td>Hands-on Graph Neural Networks with PyTorch &amp; ...</td>\n",
       "      <td>NaN</td>\n",
       "      <td>2.png</td>\n",
       "      <td>1100</td>\n",
       "      <td>11</td>\n",
       "      <td>9</td>\n",
       "      <td>Towards Data Science</td>\n",
       "      <td>2019-05-30</td>\n",
       "    </tr>\n",
       "    <tr>\n",
       "      <th>2</th>\n",
       "      <td>3</td>\n",
       "      <td>https://towardsdatascience.com/how-to-use-ggpl...</td>\n",
       "      <td>How to Use ggplot2 in Python</td>\n",
       "      <td>A Grammar of Graphics for Python</td>\n",
       "      <td>3.png</td>\n",
       "      <td>767</td>\n",
       "      <td>1</td>\n",
       "      <td>5</td>\n",
       "      <td>Towards Data Science</td>\n",
       "      <td>2019-05-30</td>\n",
       "    </tr>\n",
       "    <tr>\n",
       "      <th>3</th>\n",
       "      <td>4</td>\n",
       "      <td>https://towardsdatascience.com/databricks-how-...</td>\n",
       "      <td>Databricks: How to Save Files in CSV on Your L...</td>\n",
       "      <td>When I work on Python projects dealing…</td>\n",
       "      <td>4.jpeg</td>\n",
       "      <td>354</td>\n",
       "      <td>0</td>\n",
       "      <td>4</td>\n",
       "      <td>Towards Data Science</td>\n",
       "      <td>2019-05-30</td>\n",
       "    </tr>\n",
       "    <tr>\n",
       "      <th>4</th>\n",
       "      <td>5</td>\n",
       "      <td>https://towardsdatascience.com/a-step-by-step-...</td>\n",
       "      <td>A Step-by-Step Implementation of Gradient Desc...</td>\n",
       "      <td>One example of building neural…</td>\n",
       "      <td>5.jpeg</td>\n",
       "      <td>211</td>\n",
       "      <td>3</td>\n",
       "      <td>4</td>\n",
       "      <td>Towards Data Science</td>\n",
       "      <td>2019-05-30</td>\n",
       "    </tr>\n",
       "  </tbody>\n",
       "</table>\n",
       "</div>"
      ],
      "text/plain": [
       "   id                                                url  \\\n",
       "0   1  https://towardsdatascience.com/a-beginners-gui...   \n",
       "1   2  https://towardsdatascience.com/hands-on-graph-...   \n",
       "2   3  https://towardsdatascience.com/how-to-use-ggpl...   \n",
       "3   4  https://towardsdatascience.com/databricks-how-...   \n",
       "4   5  https://towardsdatascience.com/a-step-by-step-...   \n",
       "\n",
       "                                               title  \\\n",
       "0  A Beginner’s Guide to Word Embedding with Gens...   \n",
       "1  Hands-on Graph Neural Networks with PyTorch & ...   \n",
       "2                       How to Use ggplot2 in Python   \n",
       "3  Databricks: How to Save Files in CSV on Your L...   \n",
       "4  A Step-by-Step Implementation of Gradient Desc...   \n",
       "\n",
       "                                  subtitle   image  claps responses  \\\n",
       "0                                      NaN   1.png    850         8   \n",
       "1                                      NaN   2.png   1100        11   \n",
       "2         A Grammar of Graphics for Python   3.png    767         1   \n",
       "3  When I work on Python projects dealing…  4.jpeg    354         0   \n",
       "4          One example of building neural…  5.jpeg    211         3   \n",
       "\n",
       "   reading_time           publication        date  \n",
       "0             8  Towards Data Science  2019-05-30  \n",
       "1             9  Towards Data Science  2019-05-30  \n",
       "2             5  Towards Data Science  2019-05-30  \n",
       "3             4  Towards Data Science  2019-05-30  \n",
       "4             4  Towards Data Science  2019-05-30  "
      ]
     },
     "execution_count": 4,
     "metadata": {},
     "output_type": "execute_result"
    }
   ],
   "source": [
    "medium_data = pd.read_csv('medium_data.csv')\n",
    "medium_data.head()"
   ]
  },
  {
   "cell_type": "code",
   "execution_count": 5,
   "metadata": {},
   "outputs": [
    {
     "name": "stdout",
     "output_type": "stream",
     "text": [
      "Number of records:  6508\n",
      "Number of fields:  10\n"
     ]
    }
   ],
   "source": [
    "print(\"Number of records: \", medium_data.shape[0])\n",
    "print(\"Number of fields: \", medium_data.shape[1])"
   ]
  },
  {
   "attachments": {},
   "cell_type": "markdown",
   "metadata": {},
   "source": [
    "Display titles of various articles and preprocess them"
   ]
  },
  {
   "cell_type": "code",
   "execution_count": 6,
   "metadata": {},
   "outputs": [
    {
     "data": {
      "text/plain": [
       "0       A Beginner’s Guide to Word Embedding with Gens...\n",
       "1       Hands-on Graph Neural Networks with PyTorch & ...\n",
       "2                            How to Use ggplot2 in Python\n",
       "3       Databricks: How to Save Files in CSV on Your L...\n",
       "4       A Step-by-Step Implementation of Gradient Desc...\n",
       "                              ...                        \n",
       "6503    “We” vs “I” — How Should You Talk About Yourse...\n",
       "6504                     How Donald Trump Markets Himself\n",
       "6505        Content and Marketing Beyond Mass Consumption\n",
       "6506    5 Questions All Copywriters Should Ask Clients...\n",
       "6507               How To Write a Good Business Blog Post\n",
       "Name: title, Length: 6508, dtype: object"
      ]
     },
     "execution_count": 6,
     "metadata": {},
     "output_type": "execute_result"
    }
   ],
   "source": [
    "medium_data['title']"
   ]
  },
  {
   "attachments": {},
   "cell_type": "markdown",
   "metadata": {},
   "source": [
    "Removing unwanted characters and words in titles"
   ]
  },
  {
   "cell_type": "code",
   "execution_count": 7,
   "metadata": {},
   "outputs": [],
   "source": [
    "medium_data['title'] = medium_data['title'].apply(lambda x: x.replace(u'\\xa0',u' '))\n",
    "medium_data['title'] = medium_data['title'].apply(lambda x: x.replace('\\u200a',' '))"
   ]
  },
  {
   "attachments": {},
   "cell_type": "markdown",
   "metadata": {},
   "source": [
    "Tokenzation"
   ]
  },
  {
   "cell_type": "code",
   "execution_count": 8,
   "metadata": {},
   "outputs": [
    {
     "name": "stdout",
     "output_type": "stream",
     "text": [
      "Total number of words:  8238\n",
      "Word: ID\n",
      "------------\n",
      "<oov>:  1\n",
      "Strong:  4\n",
      "And:  8\n",
      "Consumption:  8237\n"
     ]
    }
   ],
   "source": [
    "tokenizer = Tokenizer(oov_token='<oov>') # For those words which are not found in word_index\n",
    "tokenizer.fit_on_texts(medium_data['title'])\n",
    "total_words = len(tokenizer.word_index) + 1\n",
    "\n",
    "print(\"Total number of words: \", total_words)\n",
    "print(\"Word: ID\")\n",
    "print(\"------------\")\n",
    "print(\"<oov>: \", tokenizer.word_index['<oov>'])\n",
    "print(\"Strong: \", tokenizer.word_index['strong'])\n",
    "print(\"And: \", tokenizer.word_index['and'])\n",
    "print(\"Consumption: \", tokenizer.word_index['consumption'])"
   ]
  },
  {
   "cell_type": "code",
   "execution_count": 9,
   "metadata": {},
   "outputs": [
    {
     "name": "stdout",
     "output_type": "stream",
     "text": [
      "Total input sequences:  48461\n"
     ]
    }
   ],
   "source": [
    "input_sequences = []\n",
    "for line in medium_data['title']:\n",
    "    token_list = tokenizer.texts_to_sequences([line])[0]\n",
    "    #print(token_list)\n",
    "    \n",
    "    for i in range(1, len(token_list)):\n",
    "        n_gram_sequence = token_list[:i+1]\n",
    "        input_sequences.append(n_gram_sequence)\n",
    "\n",
    "# print(input_sequences)\n",
    "print(\"Total input sequences: \", len(input_sequences))"
   ]
  },
  {
   "attachments": {},
   "cell_type": "markdown",
   "metadata": {},
   "source": [
    "Make all titles with same length by using padding"
   ]
  },
  {
   "cell_type": "code",
   "execution_count": 10,
   "metadata": {},
   "outputs": [
    {
     "data": {
      "text/plain": [
       "array([  0,   0,   0,   0,   0,   0,   0,   0,   0,   0,   0,   0,   0,\n",
       "         0,   0,   0,   0,   0,   0,   0,   0,   0,   0,   0,   0,   0,\n",
       "         0,   0,   0,   0,   0,   0,   0,   0,   0,   0,   0,   5, 676,\n",
       "        68])"
      ]
     },
     "execution_count": 10,
     "metadata": {},
     "output_type": "execute_result"
    }
   ],
   "source": [
    "# pad sequences \n",
    "max_sequence_len = max([len(x) for x in input_sequences])\n",
    "input_sequences = np.array(pad_sequences(input_sequences, maxlen=max_sequence_len, padding='pre'))\n",
    "input_sequences[1]"
   ]
  },
  {
   "attachments": {},
   "cell_type": "markdown",
   "metadata": {},
   "source": [
    "Prepare features and labels"
   ]
  },
  {
   "cell_type": "code",
   "execution_count": 11,
   "metadata": {},
   "outputs": [],
   "source": [
    "# create features and label\n",
    "xs, labels = input_sequences[:,:-1],input_sequences[:,-1]\n",
    "ys = tf.keras.utils.to_categorical(labels, num_classes=total_words)"
   ]
  },
  {
   "cell_type": "code",
   "execution_count": 12,
   "metadata": {},
   "outputs": [
    {
     "name": "stdout",
     "output_type": "stream",
     "text": [
      "[   0    0    0    0    0    0    0    0    0    0    0    0    0    0\n",
      "    0    0    0    0    0    0    0    0    0    0    0    0    0    0\n",
      "    0    0    0    0    0    5  676   68    2  452 1518]\n",
      "14\n",
      "1.0\n"
     ]
    }
   ],
   "source": [
    "print(xs[5])\n",
    "print(labels[5])\n",
    "print(ys[5][14])"
   ]
  },
  {
   "attachments": {},
   "cell_type": "markdown",
   "metadata": {},
   "source": [
    "Architechture of Bidirectional LSTM Neural Network¶\n"
   ]
  },
  {
   "attachments": {},
   "cell_type": "markdown",
   "metadata": {},
   "source": [
    "Bi- LSTM Neural Network Model training\n"
   ]
  },
  {
   "cell_type": "code",
   "execution_count": 13,
   "metadata": {},
   "outputs": [
    {
     "name": "stdout",
     "output_type": "stream",
     "text": [
      "Epoch 1/50\n"
     ]
    },
    {
     "name": "stderr",
     "output_type": "stream",
     "text": [
      "c:\\Users\\HP\\anaconda3\\lib\\site-packages\\keras\\optimizer_v2\\adam.py:105: UserWarning: The `lr` argument is deprecated, use `learning_rate` instead.\n",
      "  super(Adam, self).__init__(name, **kwargs)\n"
     ]
    },
    {
     "name": "stdout",
     "output_type": "stream",
     "text": [
      "1515/1515 [==============================] - 168s 109ms/step - loss: 6.8123 - accuracy: 0.1210\n",
      "Epoch 2/50\n",
      "1515/1515 [==============================] - 168s 111ms/step - loss: 5.8323 - accuracy: 0.1731\n",
      "Epoch 3/50\n",
      "1515/1515 [==============================] - 168s 111ms/step - loss: 5.0291 - accuracy: 0.2013\n",
      "Epoch 4/50\n",
      "1515/1515 [==============================] - 167s 110ms/step - loss: 4.2702 - accuracy: 0.2408\n",
      "Epoch 5/50\n",
      "1515/1515 [==============================] - 185s 122ms/step - loss: 3.6786 - accuracy: 0.2919\n",
      "Epoch 6/50\n",
      "1515/1515 [==============================] - 173s 114ms/step - loss: 3.3022 - accuracy: 0.3341\n",
      "Epoch 7/50\n",
      "1515/1515 [==============================] - 184s 121ms/step - loss: 3.0454 - accuracy: 0.3660\n",
      "Epoch 8/50\n",
      "1515/1515 [==============================] - 174s 115ms/step - loss: 2.8732 - accuracy: 0.3897\n",
      "Epoch 9/50\n",
      "1515/1515 [==============================] - 160s 106ms/step - loss: 2.7343 - accuracy: 0.4088\n",
      "Epoch 10/50\n",
      "1515/1515 [==============================] - 156s 103ms/step - loss: 2.6227 - accuracy: 0.4231\n",
      "Epoch 11/50\n",
      "1515/1515 [==============================] - 159s 105ms/step - loss: 2.5458 - accuracy: 0.4385\n",
      "Epoch 12/50\n",
      "1515/1515 [==============================] - 153s 101ms/step - loss: 2.5116 - accuracy: 0.4425\n",
      "Epoch 13/50\n",
      "1515/1515 [==============================] - 42528s 28s/step - loss: 2.4612 - accuracy: 0.4498\n",
      "Epoch 14/50\n",
      "1515/1515 [==============================] - 197s 130ms/step - loss: 2.3912 - accuracy: 0.4590\n",
      "Epoch 15/50\n",
      "1515/1515 [==============================] - 169s 111ms/step - loss: 2.3386 - accuracy: 0.4710\n",
      "Epoch 16/50\n",
      "1515/1515 [==============================] - 164s 108ms/step - loss: 2.3090 - accuracy: 0.4757\n",
      "Epoch 17/50\n",
      "1515/1515 [==============================] - 168s 111ms/step - loss: 2.3010 - accuracy: 0.4765\n",
      "Epoch 18/50\n",
      "1515/1515 [==============================] - 169s 112ms/step - loss: 2.2978 - accuracy: 0.4782\n",
      "Epoch 19/50\n",
      "1515/1515 [==============================] - 171s 113ms/step - loss: 2.2681 - accuracy: 0.4837\n",
      "Epoch 20/50\n",
      "1515/1515 [==============================] - 154s 101ms/step - loss: 2.2417 - accuracy: 0.4887\n",
      "Epoch 21/50\n",
      "1515/1515 [==============================] - 139s 92ms/step - loss: 2.2115 - accuracy: 0.4954\n",
      "Epoch 22/50\n",
      "1515/1515 [==============================] - 140s 93ms/step - loss: 2.2777 - accuracy: 0.4882\n",
      "Epoch 23/50\n",
      "1515/1515 [==============================] - 149s 98ms/step - loss: 2.2248 - accuracy: 0.4906\n",
      "Epoch 24/50\n",
      "1515/1515 [==============================] - 139s 92ms/step - loss: 2.2052 - accuracy: 0.4961\n",
      "Epoch 25/50\n",
      "1515/1515 [==============================] - 136s 90ms/step - loss: 2.2245 - accuracy: 0.4950\n",
      "Epoch 26/50\n",
      "1515/1515 [==============================] - 170s 113ms/step - loss: 2.2239 - accuracy: 0.4945\n",
      "Epoch 27/50\n",
      "1515/1515 [==============================] - 156s 103ms/step - loss: 2.1978 - accuracy: 0.5005\n",
      "Epoch 28/50\n",
      "1515/1515 [==============================] - 141s 93ms/step - loss: 2.1917 - accuracy: 0.5030\n",
      "Epoch 29/50\n",
      "1515/1515 [==============================] - 150s 99ms/step - loss: 2.2088 - accuracy: 0.4990\n",
      "Epoch 30/50\n",
      "1515/1515 [==============================] - 141s 93ms/step - loss: 2.1883 - accuracy: 0.5034\n",
      "Epoch 31/50\n",
      "1515/1515 [==============================] - 147s 97ms/step - loss: 2.2321 - accuracy: 0.4989\n",
      "Epoch 32/50\n",
      "1515/1515 [==============================] - 163s 108ms/step - loss: 2.1559 - accuracy: 0.5092\n",
      "Epoch 33/50\n",
      "1515/1515 [==============================] - 140s 92ms/step - loss: 2.2090 - accuracy: 0.5030\n",
      "Epoch 34/50\n",
      "1515/1515 [==============================] - 145s 96ms/step - loss: 2.1829 - accuracy: 0.5090\n",
      "Epoch 35/50\n",
      "1515/1515 [==============================] - 149s 98ms/step - loss: 2.1532 - accuracy: 0.5123\n",
      "Epoch 36/50\n",
      "1515/1515 [==============================] - 142s 94ms/step - loss: 2.1731 - accuracy: 0.5098\n",
      "Epoch 37/50\n",
      "1515/1515 [==============================] - 148s 98ms/step - loss: 2.2047 - accuracy: 0.5061\n",
      "Epoch 38/50\n",
      "1515/1515 [==============================] - 144s 95ms/step - loss: 2.1573 - accuracy: 0.5132\n",
      "Epoch 39/50\n",
      "1515/1515 [==============================] - 143s 95ms/step - loss: 2.2018 - accuracy: 0.5107\n",
      "Epoch 40/50\n",
      "1515/1515 [==============================] - 138s 91ms/step - loss: 2.1647 - accuracy: 0.5142\n",
      "Epoch 41/50\n",
      "1515/1515 [==============================] - 140s 93ms/step - loss: 2.1512 - accuracy: 0.5170\n",
      "Epoch 42/50\n",
      "1515/1515 [==============================] - 152s 100ms/step - loss: 2.1442 - accuracy: 0.5189\n",
      "Epoch 43/50\n",
      "1515/1515 [==============================] - 163s 108ms/step - loss: 2.1669 - accuracy: 0.5123\n",
      "Epoch 44/50\n",
      "1515/1515 [==============================] - 174s 115ms/step - loss: 2.1571 - accuracy: 0.5143\n",
      "Epoch 45/50\n",
      "1515/1515 [==============================] - 146s 96ms/step - loss: 2.1095 - accuracy: 0.5230\n",
      "Epoch 46/50\n",
      "1515/1515 [==============================] - 142s 94ms/step - loss: 2.1205 - accuracy: 0.5220\n",
      "Epoch 47/50\n",
      "1515/1515 [==============================] - 143s 94ms/step - loss: 2.1012 - accuracy: 0.5244\n",
      "Epoch 48/50\n",
      "1515/1515 [==============================] - 143s 94ms/step - loss: 2.1034 - accuracy: 0.5272\n",
      "Epoch 49/50\n",
      "1515/1515 [==============================] - 144s 95ms/step - loss: 2.0882 - accuracy: 0.5306\n",
      "Epoch 50/50\n",
      "1515/1515 [==============================] - 172s 114ms/step - loss: 2.0801 - accuracy: 0.5297\n",
      "<keras.engine.sequential.Sequential object at 0x000001A04AA293D0>\n"
     ]
    }
   ],
   "source": [
    "model = Sequential()\n",
    "model.add(Embedding(total_words, 100, input_length=max_sequence_len-1))\n",
    "model.add(Bidirectional(LSTM(150)))\n",
    "model.add(Dense(total_words, activation='softmax'))\n",
    "adam = Adam(lr=0.01)\n",
    "model.compile(loss='categorical_crossentropy', optimizer=adam, metrics=['accuracy'])\n",
    "history = model.fit(xs, ys, epochs=50, verbose=1)\n",
    "#print model.summary()\n",
    "print(model)"
   ]
  }
 ],
 "metadata": {
  "kernelspec": {
   "display_name": "base",
   "language": "python",
   "name": "python3"
  },
  "language_info": {
   "codemirror_mode": {
    "name": "ipython",
    "version": 3
   },
   "file_extension": ".py",
   "mimetype": "text/x-python",
   "name": "python",
   "nbconvert_exporter": "python",
   "pygments_lexer": "ipython3",
   "version": "3.9.7"
  },
  "orig_nbformat": 4
 },
 "nbformat": 4,
 "nbformat_minor": 2
}
